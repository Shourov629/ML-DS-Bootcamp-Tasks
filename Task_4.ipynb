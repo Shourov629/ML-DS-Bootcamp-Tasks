{
 "cells": [
  {
   "cell_type": "markdown",
   "id": "6ae57add",
   "metadata": {},
   "source": [
    "### 1. Reverse a list."
   ]
  },
  {
   "cell_type": "code",
   "execution_count": 2,
   "id": "4f1494ee",
   "metadata": {},
   "outputs": [
    {
     "data": {
      "text/plain": [
       "[35, 4, 97, 67, 5, 2, 1, 23]"
      ]
     },
     "execution_count": 2,
     "metadata": {},
     "output_type": "execute_result"
    }
   ],
   "source": [
    "li = [23,1,2,5,67,97,4,35]\n",
    "new_li = []\n",
    "length = len(li)\n",
    "for i in range(length):\n",
    "    new_li.append(li[length-1-i])\n",
    "new_li"
   ]
  },
  {
   "cell_type": "markdown",
   "id": "b1ce957d",
   "metadata": {},
   "source": [
    "### 2. Concatenate two lists index-wise."
   ]
  },
  {
   "cell_type": "code",
   "execution_count": 3,
   "id": "7e15b71a",
   "metadata": {},
   "outputs": [
    {
     "data": {
      "text/plain": [
       "['We', 'will', 'Dream', 'big']"
      ]
     },
     "execution_count": 3,
     "metadata": {},
     "output_type": "execute_result"
    }
   ],
   "source": [
    "list1 = [\"W\", \"wi\", \"Dre\", \"b\"]\n",
    "list2 = [\"e\", \"ll\", \"am\", \"ig\"]\n",
    "new_li = []\n",
    "length = len(list1)\n",
    "for i in range(length):\n",
    "    new_li.append(list1[i]+list2[i])\n",
    "    \n",
    "new_li"
   ]
  },
  {
   "cell_type": "markdown",
   "id": "e62e7e8a",
   "metadata": {},
   "source": [
    "### 3. Turn every number of a list into its square.\n"
   ]
  },
  {
   "cell_type": "code",
   "execution_count": 4,
   "id": "8eb42be9",
   "metadata": {},
   "outputs": [
    {
     "data": {
      "text/plain": [
       "[529, 1, 4, 25, 4489, 9409, 16, 1225]"
      ]
     },
     "execution_count": 4,
     "metadata": {},
     "output_type": "execute_result"
    }
   ],
   "source": [
    "li = [23,1,2,5,67,97,4,35]\n",
    "result = list(map(lambda x: x*x, li))\n",
    "result"
   ]
  },
  {
   "cell_type": "markdown",
   "id": "b1a17f15",
   "metadata": {},
   "source": [
    "### 4. Remove empty strings from the list of strings."
   ]
  },
  {
   "cell_type": "code",
   "execution_count": 11,
   "id": "7a382acd",
   "metadata": {},
   "outputs": [
    {
     "data": {
      "text/plain": [
       "['Code', 'Studio', 'Academy']"
      ]
     },
     "execution_count": 11,
     "metadata": {},
     "output_type": "execute_result"
    }
   ],
   "source": [
    "string = [\"Code\", \" \", \"Studio\", \"Academy\", \" \"]\n",
    "new_li = []\n",
    "for x in string:\n",
    "    if \" \" not in x:\n",
    "        new_li.append(x)\n",
    "new_li"
   ]
  },
  {
   "cell_type": "markdown",
   "id": "25633b92",
   "metadata": {},
   "source": [
    "### 5.  Add a list of elements to a set."
   ]
  },
  {
   "cell_type": "code",
   "execution_count": 12,
   "id": "55fcd747",
   "metadata": {},
   "outputs": [
    {
     "data": {
      "text/plain": [
       "{'Black', 'Blue', 'Green', 'Orange', 'Red', 'Yellow'}"
      ]
     },
     "execution_count": 12,
     "metadata": {},
     "output_type": "execute_result"
    }
   ],
   "source": [
    "set_ = {\"Yellow\", \"Orange\", \"Black\"} \n",
    "list_ = [\"Blue\", \"Green\", \"Red\"]\n",
    "set_.update(list_)\n",
    "set_"
   ]
  },
  {
   "cell_type": "markdown",
   "id": "e2d59a40",
   "metadata": {},
   "source": [
    "### 6. Return a set of elements present in Set A or B, but not both."
   ]
  },
  {
   "cell_type": "code",
   "execution_count": 6,
   "id": "a7ffd477",
   "metadata": {},
   "outputs": [
    {
     "name": "stdout",
     "output_type": "stream",
     "text": [
      "[2, 'Blue', 5, 'Yellow', 'Red', 'Black']\n"
     ]
    }
   ],
   "source": [
    "listA = {23,\"Orange\",2,5,67,\"Black\",\"Green\",35}\n",
    "listB = {\"Blue\",67,\"Green\",\"Red\",35,23,\"Orange\",\"Yellow\"}\n",
    "result = list(listA ^ listB)\n",
    "print(result)"
   ]
  },
  {
   "cell_type": "markdown",
   "id": "2ea49aea",
   "metadata": {},
   "source": [
    "### 7. Convert two lists into a dictionary."
   ]
  },
  {
   "cell_type": "code",
   "execution_count": 8,
   "id": "455614c9",
   "metadata": {},
   "outputs": [
    {
     "data": {
      "text/plain": [
       "{'Ten': 10, 'Twenty': 20, 'Thirty': 30}"
      ]
     },
     "execution_count": 8,
     "metadata": {},
     "output_type": "execute_result"
    }
   ],
   "source": [
    "keys = ['Ten', 'Twenty', 'Thirty']\n",
    "values = [10, 20, 30]\n",
    "\n",
    "result = {i:d for i,d in zip(keys,values)}\n",
    "result"
   ]
  },
  {
   "cell_type": "markdown",
   "id": "24dc442f",
   "metadata": {},
   "source": [
    "### 8. Merge two Python dictionaries into one."
   ]
  },
  {
   "cell_type": "code",
   "execution_count": 7,
   "id": "a920d3b7",
   "metadata": {},
   "outputs": [
    {
     "data": {
      "text/plain": [
       "{'Ten': 10, 'Twenty': 20, 'Thirty': 30, 'Fourty': 40, 'Fifty': 50}"
      ]
     },
     "execution_count": 7,
     "metadata": {},
     "output_type": "execute_result"
    }
   ],
   "source": [
    "dict1 = {'Ten': 10, 'Twenty': 20, 'Thirty': 30} \n",
    "dict2 = {'Thirty': 30, 'Fourty': 40, 'Fifty': 50}\n",
    "\n",
    "dict1.update(dict2)\n",
    "dict1"
   ]
  },
  {
   "cell_type": "markdown",
   "id": "28692f08",
   "metadata": {},
   "source": [
    "### 9. Rename a key of a dictionary.\n"
   ]
  },
  {
   "cell_type": "code",
   "execution_count": 10,
   "id": "5d3c31fb",
   "metadata": {},
   "outputs": [
    {
     "data": {
      "text/plain": [
       "{'Age': 25, 'Hometown': 'Bogura', 'NAME': 'Mehedi'}"
      ]
     },
     "execution_count": 10,
     "metadata": {},
     "output_type": "execute_result"
    }
   ],
   "source": [
    "student = {\"name\": \"Mehedi\", \"Age\": 25, \"Hometown\": \"Bogura\"}\n",
    "student[\"NAME\"]=student.pop(\"name\")\n",
    "student"
   ]
  },
  {
   "cell_type": "markdown",
   "id": "f5ce493b",
   "metadata": {},
   "source": [
    "### 10. Sort a tuple of tuples by 2nd item."
   ]
  },
  {
   "cell_type": "code",
   "execution_count": 11,
   "id": "67fec999",
   "metadata": {},
   "outputs": [
    {
     "name": "stdout",
     "output_type": "stream",
     "text": [
      "[{'name': 'Bob', 'age': 20}, {'name': 'Alice', 'age': 25}, {'name': 'Charlie', 'age': 30}]\n"
     ]
    }
   ],
   "source": [
    "tup = ({'name': 'Alice', 'age': 25},{'name': 'Bob', 'age': 20},{'name': 'Charlie', 'age': 30})\n",
    "result = sorted(tup, key=lambda x: x['age'])\n",
    "\n",
    "print(result)"
   ]
  },
  {
   "cell_type": "code",
   "execution_count": null,
   "id": "13ed1725",
   "metadata": {},
   "outputs": [],
   "source": []
  }
 ],
 "metadata": {
  "kernelspec": {
   "display_name": "Python 3 (ipykernel)",
   "language": "python",
   "name": "python3"
  },
  "language_info": {
   "codemirror_mode": {
    "name": "ipython",
    "version": 3
   },
   "file_extension": ".py",
   "mimetype": "text/x-python",
   "name": "python",
   "nbconvert_exporter": "python",
   "pygments_lexer": "ipython3",
   "version": "3.11.0"
  }
 },
 "nbformat": 4,
 "nbformat_minor": 5
}
